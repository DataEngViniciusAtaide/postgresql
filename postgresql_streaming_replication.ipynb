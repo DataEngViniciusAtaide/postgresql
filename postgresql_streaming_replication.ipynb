{
  "nbformat": 4,
  "nbformat_minor": 0,
  "metadata": {
    "colab": {
      "provenance": [],
      "authorship_tag": "ABX9TyP3dS1lKbPrXy3OiwtVjqib",
      "include_colab_link": true
    },
    "kernelspec": {
      "name": "python3",
      "display_name": "Python 3"
    },
    "language_info": {
      "name": "python"
    }
  },
  "cells": [
    {
      "cell_type": "markdown",
      "metadata": {
        "id": "view-in-github",
        "colab_type": "text"
      },
      "source": [
        "<a href=\"https://colab.research.google.com/github/DataEngViniciusAtaide/postgresql/blob/main/postgresql_streaming_replication.ipynb\" target=\"_parent\"><img src=\"https://colab.research.google.com/assets/colab-badge.svg\" alt=\"Open In Colab\"/></a>"
      ]
    },
    {
      "cell_type": "markdown",
      "source": [
        "## **Criando ambiente para aplicação da técnica de streaming replication no postgresql.**\n"
      ],
      "metadata": {
        "id": "OZWRlaHAF7MU"
      }
    },
    {
      "cell_type": "markdown",
      "source": [
        "Para simular o ambiente eu virtualizei duas máquina ubuntu server 24.04. primary_db e replica_db. Após a instalação foram feitas as seguintes modificações nos dois servidores.\n"
      ],
      "metadata": {
        "id": "BnTzuWs7F_9_"
      }
    },
    {
      "cell_type": "code",
      "source": [
        "# sudo apt update\n",
        "# sudo apt upgrade\n",
        "# sudo apt install postgresql"
      ],
      "metadata": {
        "id": "FIl9LCJPIQ8C"
      },
      "execution_count": null,
      "outputs": []
    },
    {
      "cell_type": "markdown",
      "source": [
        "Após atualizar e instalar o postgresql, eu  adicionei ao PATH"
      ],
      "metadata": {
        "id": "I3CfVL01ISGj"
      }
    },
    {
      "cell_type": "code",
      "source": [
        "# nano ~/.bashrc\n",
        "# export PATH=/usr/lib/postgresql/16/bin:$PATH\n",
        "# source ~/.bashrc"
      ],
      "metadata": {
        "id": "ahEJ4LChK5lB"
      },
      "execution_count": null,
      "outputs": []
    },
    {
      "cell_type": "markdown",
      "source": [
        "Após isso eu criei um novo cluster em /tmp/primary_db, esse cluster será o principal para a experiência:"
      ],
      "metadata": {
        "id": "L2L5Wv-mLAXU"
      }
    },
    {
      "cell_type": "code",
      "source": [
        "# initdb -D /tmp/primary_db"
      ],
      "metadata": {
        "id": "GuUgWekCLiuW"
      },
      "execution_count": null,
      "outputs": []
    },
    {
      "cell_type": "markdown",
      "source": [
        "Em seguida eu fiz algumas modificações no postgresql.conf:"
      ],
      "metadata": {
        "id": "GB7Ovm5lNTo_"
      }
    },
    {
      "cell_type": "code",
      "source": [
        "# nano /tmp/primary_db/postgresql.conf"
      ],
      "metadata": {
        "id": "SMHSApYfNaYw"
      },
      "execution_count": null,
      "outputs": []
    },
    {
      "cell_type": "code",
      "source": [
        "# listen_addresses = '*'\n",
        "# port = 5433\n",
        "# wal_level = replica\n",
        "# max_wal_senders = 3\n",
        "# wal_keep_size = 16MB\n",
        "# hot_standby = on\n"
      ],
      "metadata": {
        "id": "dNkQ86w3NlBw"
      },
      "execution_count": null,
      "outputs": []
    },
    {
      "cell_type": "markdown",
      "source": [
        "No arquivo pg_hba.conf a seguinte llinha foi adicionada:"
      ],
      "metadata": {
        "id": "WTdAIv1SOSXv"
      }
    },
    {
      "cell_type": "code",
      "source": [
        "# nano /tmp/primary_db/pg_hba.conf"
      ],
      "metadata": {
        "id": "uYFn6l85OXnp"
      },
      "execution_count": null,
      "outputs": []
    },
    {
      "cell_type": "code",
      "source": [
        "# host    replication     repuser         10.113.220.67/32        trust"
      ],
      "metadata": {
        "id": "-FlEbib1OZSy"
      },
      "execution_count": null,
      "outputs": []
    },
    {
      "cell_type": "markdown",
      "source": [
        "Após isso eu dei permissão para o usuario primary do servidor primary_db como informado no código aseguir, mas acho que bastava mudar para o usuario postgres para startar o serviço."
      ],
      "metadata": {
        "id": "3bGfVNQ4Ph71"
      }
    },
    {
      "cell_type": "code",
      "source": [
        "# sudo chown -R primary:primary /var/run/postgresql"
      ],
      "metadata": {
        "id": "4Y2XWRnIP5Bb"
      },
      "execution_count": null,
      "outputs": []
    },
    {
      "cell_type": "markdown",
      "source": [
        "Em seguida startei o cluster"
      ],
      "metadata": {
        "id": "21bVNwQqP62i"
      }
    },
    {
      "cell_type": "code",
      "source": [
        "# pg_ctl -D /tmp/primary_db start"
      ],
      "metadata": {
        "id": "moFI4t8ZP-Zt"
      },
      "execution_count": null,
      "outputs": []
    },
    {
      "cell_type": "markdown",
      "source": [
        "Agora vamos criar um usuario no cluster criado para fazer a replicação através dele:"
      ],
      "metadata": {
        "id": "WKJ8ei_RQLVq"
      }
    },
    {
      "cell_type": "code",
      "source": [
        "# psql --port=5433 postgres\n",
        "# create user repuser replication;"
      ],
      "metadata": {
        "id": "nN-zVXaEQVFO"
      },
      "execution_count": 1,
      "outputs": []
    },
    {
      "cell_type": "markdown",
      "source": [
        "Agora vamos reiniciar o serviço."
      ],
      "metadata": {
        "id": "-ctjJCbFQlI_"
      }
    },
    {
      "cell_type": "code",
      "source": [
        "# pg_ctl -D /tmp/primary_db restart"
      ],
      "metadata": {
        "id": "rjBx1e-JQoZq"
      },
      "execution_count": null,
      "outputs": []
    },
    {
      "cell_type": "markdown",
      "source": [
        "Tive que adicionar um slot manualmente no servidor primario:"
      ],
      "metadata": {
        "id": "bRMr4V5yUiRv"
      }
    },
    {
      "cell_type": "code",
      "source": [
        "# SELECT * FROM pg_create_physical_replication_slot('replica');\n"
      ],
      "metadata": {
        "id": "jrwRB7xaUsOL"
      },
      "execution_count": null,
      "outputs": []
    },
    {
      "cell_type": "markdown",
      "source": [
        "Após isso reiniciei novamente o serviço do primary:"
      ],
      "metadata": {
        "id": "0HexS5-eU-Es"
      }
    },
    {
      "cell_type": "code",
      "source": [
        "# pg_ctl -D /tmp/primary_db restart"
      ],
      "metadata": {
        "id": "wOtYLvhiVJm6"
      },
      "execution_count": null,
      "outputs": []
    },
    {
      "cell_type": "markdown",
      "source": [
        "Partindo do ponto que o servidor réplica esteja atualizado com o postgresql instalado e com o PATH configurado, executei o seguinte comando nele para funcionar como réplica:"
      ],
      "metadata": {
        "id": "DuBRkH-tZUB5"
      }
    },
    {
      "cell_type": "code",
      "source": [
        "# pg_basebackup -h 10.113.220.60 -U repuser -D /tmp/replicadb/ -R -P --slot=replica --wal-method=stream --port=5433"
      ],
      "metadata": {
        "id": "HLU7yG99ZTgI"
      },
      "execution_count": null,
      "outputs": []
    },
    {
      "cell_type": "markdown",
      "source": [
        "Agora podemos fazer alguns teste. No primary_db execute:"
      ],
      "metadata": {
        "id": "RkqQ0eB6fc8Z"
      }
    },
    {
      "cell_type": "code",
      "source": [
        "# psql --port=5433 postgres\n",
        "# select * from pg_stat_replication;"
      ],
      "metadata": {
        "id": "uQ0ou5qPflHN"
      },
      "execution_count": null,
      "outputs": []
    },
    {
      "cell_type": "code",
      "source": [],
      "metadata": {
        "id": "t8o6S_RwRP6c"
      },
      "execution_count": null,
      "outputs": []
    },
    {
      "cell_type": "markdown",
      "source": [
        "Deve aparecer algo como isso:\n",
        "\n",
        "![Captura de tela de 2024-08-28 15-34-06.png](data:image/png;base64,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)"
      ],
      "metadata": {
        "id": "eiEELIILREA4"
      }
    },
    {
      "cell_type": "markdown",
      "source": [
        "## **No Servidor Réplica**"
      ],
      "metadata": {
        "id": "Ay6MakNNSZVL"
      }
    },
    {
      "cell_type": "markdown",
      "source": [
        "Após isso startei o cluste no servidor réplica:"
      ],
      "metadata": {
        "id": "34RowwVcRW7Y"
      }
    },
    {
      "cell_type": "code",
      "source": [
        "# pg_ctl -D /tmp/replicadb start"
      ],
      "metadata": {
        "id": "Dum9kgaZRiD3"
      },
      "execution_count": null,
      "outputs": []
    },
    {
      "cell_type": "markdown",
      "source": [
        "Para poder acessar o PSQL no servidor réplica no cluster que está sendo replicado em /tmp/replicadb eu fui no servidor primario e criei um usuario no postgres pra ser comum de acesso nos dois servidores:"
      ],
      "metadata": {
        "id": "QCJnOXLvSkEA"
      }
    },
    {
      "cell_type": "markdown",
      "source": [
        "O usuário foi criado no servidor primario, como a replicação está funcionando, ele é replicado no servidor réplica."
      ],
      "metadata": {
        "id": "zVxw0xaoSpUy"
      }
    },
    {
      "cell_type": "code",
      "source": [
        "# CREATE ROLE replica WITH LOGIN PASSWORD '123456';\n",
        "# GRANT ALL PRIVILEGES ON tblteste1 TO replica;"
      ],
      "metadata": {
        "id": "Po7DTaTDSwzp"
      },
      "execution_count": null,
      "outputs": []
    },
    {
      "cell_type": "markdown",
      "source": [
        "OBS.: O usuário que eu criie \"replica\" é o mesmo usuário do SO do servidor replica, possui o mesmo nome, então se você tiver algum problema com relação a permissão, tenta criar o usuário do banco com o mesmo nome do usuário do SO do servidor réplica. Pode ser que não haja relação, vou fazer um teste posteriormente."
      ],
      "metadata": {
        "id": "HpOrtiv5Sx5n"
      }
    },
    {
      "cell_type": "markdown",
      "source": [
        "Eu liberei all privileges, mas pode ser liberado como necessário."
      ],
      "metadata": {
        "id": "V22V3wPuS1TI"
      }
    },
    {
      "cell_type": "markdown",
      "source": [
        "# **fiz alguns teste e a replicação está funcionando perfeitamente.**"
      ],
      "metadata": {
        "id": "a7dUgRcuS8g0"
      }
    },
    {
      "cell_type": "markdown",
      "source": [],
      "metadata": {
        "id": "qpFeDsLsS9zc"
      }
    }
  ]
}