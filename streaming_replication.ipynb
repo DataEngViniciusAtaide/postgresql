{
  "nbformat": 4,
  "nbformat_minor": 0,
  "metadata": {
    "colab": {
      "provenance": [],
      "include_colab_link": true
    },
    "kernelspec": {
      "name": "python3",
      "display_name": "Python 3"
    },
    "language_info": {
      "name": "python"
    }
  },
  "cells": [
    {
      "cell_type": "markdown",
      "metadata": {
        "id": "view-in-github",
        "colab_type": "text"
      },
      "source": [
        "<a href=\"https://colab.research.google.com/github/DataEngViniciusAtaide/postgresql/blob/main/streaming_replication.ipynb\" target=\"_parent\"><img src=\"https://colab.research.google.com/assets/colab-badge.svg\" alt=\"Open In Colab\"/></a>"
      ]
    },
    {
      "cell_type": "markdown",
      "source": [
        "## **Criando ambiente para aplicação da técnica de streaming replication no postgresql.**"
      ],
      "metadata": {
        "id": "iJTdCU9bhzXQ"
      }
    },
    {
      "cell_type": "markdown",
      "source": [
        "Para simular o ambiente eu virtualizei duas máquina ubuntu server 24.04. primary_db e replica_db. Após a instalação foram feitas as seguintes modificações nos dois servidores.\n"
      ],
      "metadata": {
        "id": "GoaiejuQiCVI"
      }
    },
    {
      "cell_type": "code",
      "source": [
        "# sudo apt update\n",
        "# sudo apt upgrade\n",
        "# sudo apt install postgresql"
      ],
      "metadata": {
        "id": "gNeWaQcAiuoV"
      },
      "execution_count": null,
      "outputs": []
    },
    {
      "cell_type": "markdown",
      "source": [
        "Diretório dos arquivos de configuração pg_hba.conf e postgres.con"
      ],
      "metadata": {
        "id": "EMEtsG6Xgdgd"
      }
    },
    {
      "cell_type": "code",
      "source": [
        "# cd/etc/postgresql/16/main/"
      ],
      "metadata": {
        "id": "65jh7V9yjBuf"
      },
      "execution_count": null,
      "outputs": []
    },
    {
      "cell_type": "markdown",
      "source": [
        "Depois de instalar o postgresql e de ter atualizado o so usei o seguinte comando para criar um cluster no primary_db"
      ],
      "metadata": {
        "id": "QvzWgmYEsTxy"
      }
    },
    {
      "cell_type": "markdown",
      "source": [
        "Naveguei até o seguinte diretório:"
      ],
      "metadata": {
        "id": "L0cjdlZIsp6D"
      }
    },
    {
      "cell_type": "code",
      "source": [
        "# cd /usr/lib/postgresql/16/bin/"
      ],
      "metadata": {
        "id": "ZjBvVDzLmw22"
      },
      "execution_count": null,
      "outputs": []
    },
    {
      "cell_type": "markdown",
      "source": [
        "Nesse diretório fica o initdb. Para executar o initdb precisei inserir no comando todo o caminho, ainda não sei bem o porque."
      ],
      "metadata": {
        "id": "dLpIT9-es2Pe"
      }
    },
    {
      "cell_type": "code",
      "source": [
        "# which /usr/lib/postgresql/16/bin/initdb"
      ],
      "metadata": {
        "id": "5AMV07HxtDRM"
      },
      "execution_count": null,
      "outputs": []
    },
    {
      "cell_type": "markdown",
      "source": [
        "Depois executei novamente criando o cluster em um diretório."
      ],
      "metadata": {
        "id": "2qszGLS7tLPP"
      }
    },
    {
      "cell_type": "code",
      "source": [
        "# /usr/lib/postgresql/16/bin/initdb -D /tmp/primary_db"
      ],
      "metadata": {
        "id": "h5RCcF-qtQX3"
      },
      "execution_count": null,
      "outputs": []
    },
    {
      "cell_type": "code",
      "source": [
        "Agora eu posso dar um start nessa database através do seguinte comando"
      ],
      "metadata": {
        "id": "jfCjjflhtgcn"
      },
      "execution_count": null,
      "outputs": []
    },
    {
      "cell_type": "code",
      "source": [
        "#/usr/lib/postgresql/16/bin/initdb/pg_ctl - D /tmp/primary_db -logfile start"
      ],
      "metadata": {
        "id": "2JcFXGC6tmLV"
      },
      "execution_count": null,
      "outputs": []
    },
    {
      "cell_type": "markdown",
      "source": [
        "Para executar os comandos diretamente sem precisar digitar o caminho inteiro eu abri o arquivo do PATH"
      ],
      "metadata": {
        "id": "S6jDUB3PuuuD"
      }
    },
    {
      "cell_type": "code",
      "source": [
        "# nano ~/.bashrc"
      ],
      "metadata": {
        "id": "BkE7IzuNu-iY"
      },
      "execution_count": null,
      "outputs": []
    },
    {
      "cell_type": "markdown",
      "source": [
        "Adicionando no final do arquivo a seguinte linha:"
      ],
      "metadata": {
        "id": "Jqp8WaJWvGZC"
      }
    },
    {
      "cell_type": "code",
      "source": [
        "# export PATH=/usr/lib/postgresql/16/bin:$PATH"
      ],
      "metadata": {
        "id": "EiVZEBVLvTyv"
      },
      "execution_count": null,
      "outputs": []
    }
  ]
}