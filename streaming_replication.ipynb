{
  "nbformat": 4,
  "nbformat_minor": 0,
  "metadata": {
    "colab": {
      "provenance": [],
      "include_colab_link": true
    },
    "kernelspec": {
      "name": "python3",
      "display_name": "Python 3"
    },
    "language_info": {
      "name": "python"
    }
  },
  "cells": [
    {
      "cell_type": "markdown",
      "metadata": {
        "id": "view-in-github",
        "colab_type": "text"
      },
      "source": [
        "<a href=\"https://colab.research.google.com/github/DataEngViniciusAtaide/postgresql/blob/main/streaming_replication.ipynb\" target=\"_parent\"><img src=\"https://colab.research.google.com/assets/colab-badge.svg\" alt=\"Open In Colab\"/></a>"
      ]
    },
    {
      "cell_type": "markdown",
      "source": [
        "## **Criando ambiente para aplicação da técnica de streaming replication no postgresql.**"
      ],
      "metadata": {
        "id": "iJTdCU9bhzXQ"
      }
    },
    {
      "cell_type": "markdown",
      "source": [
        "Para simular o ambiente eu virtualizei duas máquina ubuntu server 24.04. primary_db e replica_db. Após a instalação foram feitas as seguintes modificações nos dois servidores.\n"
      ],
      "metadata": {
        "id": "GoaiejuQiCVI"
      }
    },
    {
      "cell_type": "code",
      "source": [
        "# sudo apt update\n",
        "# sudo apt upgrade\n",
        "# sudo apt install postgresql"
      ],
      "metadata": {
        "id": "gNeWaQcAiuoV"
      },
      "execution_count": null,
      "outputs": []
    },
    {
      "cell_type": "markdown",
      "source": [
        "Diretório dos arquivos de configuração pg_hba.conf e postgres.con"
      ],
      "metadata": {
        "id": "EMEtsG6Xgdgd"
      }
    },
    {
      "cell_type": "code",
      "source": [
        "# cd/etc/postgresql/16/main/"
      ],
      "metadata": {
        "id": "65jh7V9yjBuf"
      },
      "execution_count": null,
      "outputs": []
    },
    {
      "cell_type": "markdown",
      "source": [
        "Depois de instalar o postgresql e de ter atualizado o so usei o seguinte comando para criar um cluster no primary_db"
      ],
      "metadata": {
        "id": "QvzWgmYEsTxy"
      }
    },
    {
      "cell_type": "markdown",
      "source": [
        "Naveguei até o seguinte diretório:"
      ],
      "metadata": {
        "id": "L0cjdlZIsp6D"
      }
    },
    {
      "cell_type": "code",
      "source": [
        "# cd /usr/lib/postgresql/16/bin/"
      ],
      "metadata": {
        "id": "ZjBvVDzLmw22"
      },
      "execution_count": null,
      "outputs": []
    },
    {
      "cell_type": "markdown",
      "source": [
        "Nesse diretório fica o initdb. Para executar o initdb precisei inserir no comando todo o caminho, ainda não sei bem o porque."
      ],
      "metadata": {
        "id": "dLpIT9-es2Pe"
      }
    },
    {
      "cell_type": "code",
      "source": [
        "# which /usr/lib/postgresql/16/bin/initdb"
      ],
      "metadata": {
        "id": "5AMV07HxtDRM"
      },
      "execution_count": null,
      "outputs": []
    },
    {
      "cell_type": "markdown",
      "source": [
        "Depois executei novamente criando o cluster em um diretório."
      ],
      "metadata": {
        "id": "2qszGLS7tLPP"
      }
    },
    {
      "cell_type": "code",
      "source": [
        "# /usr/lib/postgresql/16/bin/initdb -D /tmp/primary_db"
      ],
      "metadata": {
        "id": "h5RCcF-qtQX3"
      },
      "execution_count": null,
      "outputs": []
    },
    {
      "cell_type": "markdown",
      "source": [
        "Agora eu posso dar um start nessa database através do seguinte comando"
      ],
      "metadata": {
        "id": "tk1BY_BT3wOA"
      }
    },
    {
      "cell_type": "code",
      "source": [
        "#/usr/lib/postgresql/16/bin/initdb/pg_ctl - D /tmp/primary_db -logfile start"
      ],
      "metadata": {
        "id": "2JcFXGC6tmLV"
      },
      "execution_count": null,
      "outputs": []
    },
    {
      "cell_type": "markdown",
      "source": [
        "**Para executar os comandos diretamente sem precisar digitar o caminho inteiro eu abri o arquivo do PATH**"
      ],
      "metadata": {
        "id": "S6jDUB3PuuuD"
      }
    },
    {
      "cell_type": "code",
      "source": [
        "# nano ~/.bashrc"
      ],
      "metadata": {
        "id": "BkE7IzuNu-iY"
      },
      "execution_count": null,
      "outputs": []
    },
    {
      "cell_type": "markdown",
      "source": [
        "**Adicionando no final do arquivo a seguinte linha:**"
      ],
      "metadata": {
        "id": "Jqp8WaJWvGZC"
      }
    },
    {
      "cell_type": "code",
      "source": [
        "# export PATH=/usr/lib/postgresql/16/bin:$PATH"
      ],
      "metadata": {
        "id": "EiVZEBVLvTyv"
      },
      "execution_count": null,
      "outputs": []
    },
    {
      "cell_type": "markdown",
      "source": [
        "Após isso é necessário recarregar o arquivo através do seguinte comando."
      ],
      "metadata": {
        "id": "ntiRY0rC0FjZ"
      }
    },
    {
      "cell_type": "code",
      "source": [
        "# source ~/.bashrc"
      ],
      "metadata": {
        "id": "JjIZmajU0NI7"
      },
      "execution_count": null,
      "outputs": []
    },
    {
      "cell_type": "markdown",
      "source": [
        "Após isso acessei o postgresql.conf para  modifiquei a linha de listen_addresses e a porta para o banco escutar o escravo"
      ],
      "metadata": {
        "id": "-FqNQvaF1vnb"
      }
    },
    {
      "cell_type": "code",
      "source": [
        "# nano /tmp/replica_db/postgresql.conf\n"
      ],
      "metadata": {
        "id": "yys5t9xK8Lmd"
      },
      "execution_count": null,
      "outputs": []
    },
    {
      "cell_type": "code",
      "source": [
        "# nano /tmp/primary_db/postgresql.conf"
      ],
      "metadata": {
        "id": "uQk-ioIA1MfP"
      },
      "execution_count": null,
      "outputs": []
    },
    {
      "cell_type": "markdown",
      "source": [
        "Após modificar o arquivo para ouvir do ip: listen_addresses = '*' e port = 5433  e tentar iniciar o banco do servidor primary_db, recebi alguns erros que só resolvi após dar algumas permissões para o usuario."
      ],
      "metadata": {
        "id": "l9sdvd1O1oJK"
      }
    },
    {
      "cell_type": "code",
      "source": [
        "# sudo chown -R primary_db:primary_db /var/run/postgresql\n",
        "# sudo chown -R primary_db:primary_db /tmp/primary_db\n",
        "# sudo chmod 700 /tmp/primary_db\n",
        "# sudo -i -u primary_db\n",
        "# pg_ctl -D /tmp/primary_db start\n"
      ],
      "metadata": {
        "id": "_NEBkTvQvNVP"
      },
      "execution_count": null,
      "outputs": []
    },
    {
      "cell_type": "markdown",
      "source": [
        "Após isso conectei no banco que  acabara de criar."
      ],
      "metadata": {
        "id": "gfxA8EH5wBvP"
      }
    },
    {
      "cell_type": "code",
      "source": [
        "# psql --port=5433 postgres"
      ],
      "metadata": {
        "id": "PXnEoHMfwHJO"
      },
      "execution_count": null,
      "outputs": []
    },
    {
      "cell_type": "markdown",
      "source": [
        "Criei o usuario para configuração da replica, é importante que o usuario criado siga com a flag replication"
      ],
      "metadata": {
        "id": "N94Z1ltRSWuW"
      }
    },
    {
      "cell_type": "code",
      "source": [
        "# create user repuser replication;"
      ],
      "metadata": {
        "id": "Yx46idKLRv_y"
      },
      "execution_count": null,
      "outputs": []
    },
    {
      "cell_type": "markdown",
      "source": [
        "Depois acessei o pg_hba.conf para adicionar a seguinte linha para que o usuario repuser pudesse acessar localhost"
      ],
      "metadata": {
        "id": "SmIzRHSCSmwG"
      }
    },
    {
      "cell_type": "code",
      "source": [
        "# host    all             repuser             127.0.0.1/32            trust"
      ],
      "metadata": {
        "id": "_0An-zqVTX1-"
      },
      "execution_count": null,
      "outputs": []
    },
    {
      "cell_type": "markdown",
      "source": [
        "Após as modificações nos arquivos de configuração é necessário reiniciar o serviço\n"
      ],
      "metadata": {
        "id": "1FhL2V70Tyx_"
      }
    },
    {
      "cell_type": "code",
      "source": [
        "# pg_ctl -D /tmp/primary_db restart"
      ],
      "metadata": {
        "id": "mZ85v4MNT7GZ"
      },
      "execution_count": null,
      "outputs": []
    },
    {
      "cell_type": "markdown",
      "source": [
        "## **Agora vamos configurar o servidor que será a réplica.**"
      ],
      "metadata": {
        "id": "0msC4hO10REH"
      }
    },
    {
      "cell_type": "markdown",
      "source": [
        "Precisei adicionar as variaveis de ambiente nesse servidor também pra poder executar os comandos diretamente"
      ],
      "metadata": {
        "id": "RsgyNGKy44tT"
      }
    },
    {
      "cell_type": "code",
      "source": [
        "# nano ~/.bashrc"
      ],
      "metadata": {
        "id": "fPDfLIJw5Av5"
      },
      "execution_count": null,
      "outputs": []
    },
    {
      "cell_type": "markdown",
      "source": [
        "Adicionei essa linha no final do arquivo"
      ],
      "metadata": {
        "id": "NXvpIrbm5Gy6"
      }
    },
    {
      "cell_type": "code",
      "source": [
        "# export PATH=/usr/lib/postgresql/16/bin:$PATH"
      ],
      "metadata": {
        "id": "E57xnJX_5Kkz"
      },
      "execution_count": null,
      "outputs": []
    },
    {
      "cell_type": "markdown",
      "source": [
        "E recarreguei o arquivo"
      ],
      "metadata": {
        "id": "1dAM6Odg5LdU"
      }
    },
    {
      "cell_type": "code",
      "source": [
        "# source ~/.bashrc"
      ],
      "metadata": {
        "id": "fVucBFkZ5OJm"
      },
      "execution_count": null,
      "outputs": []
    },
    {
      "cell_type": "markdown",
      "source": [
        "Precisei refazer alguns passos para levantar o cluster no replica_db\n"
      ],
      "metadata": {
        "id": "nwh-3I813N7W"
      }
    },
    {
      "cell_type": "code",
      "source": [
        "# sudo chown -R replica_db:replica_db /var/run/postgresql\n",
        "# sudo chown -R primary_db:primary_db /tmp/primary_db\n",
        "# sudo chmod 700 /tmp/primary_db\n",
        "# sudo -i -u primary_db\n",
        "# pg_ctl -D /tmp/primary_db start"
      ],
      "metadata": {
        "id": "n9rmE4xs3imm"
      },
      "execution_count": null,
      "outputs": []
    },
    {
      "cell_type": "markdown",
      "source": [
        "Depois precisei acessar o arquivo postgresql.conf e o pg_hba.conf e fazer as seguintes modificações:"
      ],
      "metadata": {
        "id": "ObRAGWs844E6"
      }
    },
    {
      "cell_type": "code",
      "source": [
        "# nano /tmp/replica_db/postgresql.conf\n"
      ],
      "metadata": {
        "id": "UzKzweoc757i"
      },
      "execution_count": null,
      "outputs": []
    }
  ]
}